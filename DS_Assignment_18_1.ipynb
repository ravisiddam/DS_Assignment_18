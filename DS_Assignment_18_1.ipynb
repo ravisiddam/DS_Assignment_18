{
 "cells": [
  {
   "cell_type": "markdown",
   "metadata": {},
   "source": [
    "Blood glucose levels for obese patients have a mean of 100 with a standard deviation of 15. A researcher thinks that a diet high in raw cornstarch will have a positive effect on blood glucose levels. A sample of 36 patients who have tried the raw cornstarch diet have a mean glucose level of 108. Test the hypothesis that the raw cornstarch had an effect or not."
   ]
  },
  {
   "cell_type": "markdown",
   "metadata": {},
   "source": [
    "BGL = 100\n",
    "sd = 15\n",
    "n= 36\n",
    "sbg = 108\n",
    "\n",
    "hypothesis is \n",
    "H0: BGL = 100\n",
    "Ha: BGL != 100\n",
    "\n",
    "n is bigger so find z-score"
   ]
  },
  {
   "cell_type": "code",
   "execution_count": 6,
   "metadata": {},
   "outputs": [
    {
     "data": {
      "text/plain": [
       "3.2"
      ]
     },
     "execution_count": 6,
     "metadata": {},
     "output_type": "execute_result"
    }
   ],
   "source": [
    "BGL = 100 \n",
    "sd = 15 \n",
    "n= 36 \n",
    "sbg = 108\n",
    "z = (sbg - BGL)/(15/6) \n",
    "z"
   ]
  },
  {
   "cell_type": "markdown",
   "metadata": {},
   "source": [
    "if alpha = 0.05 then z = 1.96\n",
    "if alpha = 0.05 then z = 3.2 > 1.96\n",
    "Reject NULL Hypothesis\n",
    "there is 3.2 standard deviations above the BGL mean."
   ]
  },
  {
   "cell_type": "code",
   "execution_count": null,
   "metadata": {},
   "outputs": [],
   "source": []
  }
 ],
 "metadata": {
  "kernelspec": {
   "display_name": "Python 3",
   "language": "python",
   "name": "python3"
  },
  "language_info": {
   "codemirror_mode": {
    "name": "ipython",
    "version": 3
   },
   "file_extension": ".py",
   "mimetype": "text/x-python",
   "name": "python",
   "nbconvert_exporter": "python",
   "pygments_lexer": "ipython3",
   "version": "3.6.5"
  }
 },
 "nbformat": 4,
 "nbformat_minor": 2
}
